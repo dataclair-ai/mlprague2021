{
  "nbformat": 4,
  "nbformat_minor": 0,
  "metadata": {
    "colab": {
      "name": "01-banners_agents.ipynb",
      "provenance": [],
      "collapsed_sections": [],
      "include_colab_link": true
    },
    "kernelspec": {
      "name": "python3",
      "display_name": "Python 3"
    }
  },
  "cells": [
    {
      "cell_type": "markdown",
      "metadata": {
        "id": "view-in-github",
        "colab_type": "text"
      },
      "source": [
        "<a href=\"https://colab.research.google.com/github/pstanisl/mlprague-2021/blob/main/01-banners_bayes_tf.ipynb\" target=\"_parent\"><img src=\"https://colab.research.google.com/assets/colab-badge.svg\" alt=\"Open In Colab\"/></a>"
      ]
    },
    {
      "cell_type": "markdown",
      "metadata": {
        "id": "I7j0yneYi0Hs"
      },
      "source": [
        "# Multi-arm bandits for banners (tf-agents)"
      ]
    },
    {
      "cell_type": "code",
      "metadata": {
        "id": "1jsg5TN1_tO7"
      },
      "source": [
        "pip install -q tf-agents"
      ],
      "execution_count": null,
      "outputs": []
    },
    {
      "cell_type": "code",
      "metadata": {
        "id": "lg20Z8yaATry"
      },
      "source": [
        "from __future__ import absolute_import\n",
        "from __future__ import division\n",
        "from __future__ import print_function\n",
        "\n",
        "from typing import List, Optional, Sequence\n",
        "\n",
        "import matplotlib.pyplot as plt\n",
        "import numpy as np\n",
        "import tensorflow as tf\n",
        "\n",
        "from scipy.stats import beta\n",
        "from tf_agents.agents import tf_agent\n",
        "from tf_agents.bandits.environments import bandit_py_environment\n",
        "from tf_agents.environments import tf_py_environment\n",
        "from tf_agents.policies import tf_policy\n",
        "from tf_agents.specs import array_spec\n",
        "from tf_agents.specs import tensor_spec\n",
        "from tf_agents.trajectories import policy_step\n",
        "from tf_agents.trajectories import time_step as ts\n",
        "from tf_agents.trajectories import trajectory\n",
        "from tf_agents.typing import types"
      ],
      "execution_count": null,
      "outputs": []
    },
    {
      "cell_type": "markdown",
      "metadata": {
        "id": "Yi0yjhRxBVga"
      },
      "source": [
        "## Environment"
      ]
    },
    {
      "cell_type": "code",
      "metadata": {
        "id": "sL4QAN4EA9kb"
      },
      "source": [
        "class BannerEnvironment(bandit_py_environment.BanditPyEnvironment):\n",
        "\n",
        "  def __init__(self, ctrs: List[float]):\n",
        "    action_spec = array_spec.BoundedArraySpec(\n",
        "        shape=(), dtype=np.int32, minimum=0, maximum=len(ctrs) - 1, name='action')\n",
        "    observation_spec = array_spec.BoundedArraySpec(\n",
        "        shape=(1,), dtype=np.float32, minimum=0., maximum=1., name='observation')\n",
        "    \n",
        "    self.ctrs = ctrs\n",
        "\n",
        "    super(BannerEnvironment, self).__init__(observation_spec, action_spec)\n",
        "\n",
        "  def _observe(self):\n",
        "    self._observation = np.random.rand(1)\n",
        "    return self._observation\n",
        "\n",
        "  def _apply_action(self, action):\n",
        "    return self.ctrs[action] > self._observation[0]"
      ],
      "execution_count": null,
      "outputs": []
    },
    {
      "cell_type": "code",
      "metadata": {
        "colab": {
          "base_uri": "https://localhost:8080/"
        },
        "id": "Y42J45H9BQIV",
        "outputId": "c462d753-c52e-4e20-d062-3e649c1f0881"
      },
      "source": [
        "environment = tf_py_environment.TFPyEnvironment(BannerEnvironment([0.25, 0.4, 0.67]))\n",
        "observation = environment.reset()\n",
        "print(f'observation: {observation.observation}')\n",
        "\n",
        "action =  2#@param\n",
        "print(f'action: {action}')\n",
        "\n",
        "reward = environment.step(action).reward\n",
        "print(f'reward: {reward}')"
      ],
      "execution_count": null,
      "outputs": [
        {
          "output_type": "stream",
          "text": [
            "observation: [[0.73067406]]\n",
            "action: 2\n",
            "reward: [0.]\n"
          ],
          "name": "stdout"
        }
      ]
    },
    {
      "cell_type": "markdown",
      "metadata": {
        "id": "I7X1B6cDCL71"
      },
      "source": [
        "## Policy"
      ]
    },
    {
      "cell_type": "code",
      "metadata": {
        "id": "369j9AqENheM"
      },
      "source": [
        "import tensorflow_probability as tfp\n",
        "tfd = tfp.distributions"
      ],
      "execution_count": null,
      "outputs": []
    },
    {
      "cell_type": "code",
      "metadata": {
        "id": "4cfiurI1Isah"
      },
      "source": [
        "class BetaPolicy(tf_policy.TFPolicy):\n",
        "  def __init__(self, alpha: List[int], beta: List[int]):\n",
        "\n",
        "    assert len(alpha) == len(beta), 'Alpha and Beta does not have same size'\n",
        "\n",
        "    action_spec = tensor_spec.BoundedTensorSpec(\n",
        "        shape=(), dtype=tf.int32, minimum=0, maximum=len(alpha) - 1)\n",
        "    observation_spec = tensor_spec.BoundedTensorSpec(\n",
        "        shape=(1,), dtype=tf.float64, minimum=0., maximum=1)\n",
        "    time_step_spec = ts.time_step_spec(observation_spec)\n",
        "    \n",
        "    self._alpha = alpha\n",
        "    self._beta = beta\n",
        "    \n",
        "    super(BetaPolicy, self).__init__(time_step_spec=time_step_spec, \n",
        "                                     action_spec=action_spec)\n",
        "    \n",
        "  def _distribution(self, time_step: ts.TimeStep) -> policy_step.PolicyStep:\n",
        "    pass\n",
        "\n",
        "  def _variables(self) -> Sequence[tf.Variable]:\n",
        "    return [self._alpha, self._beta]\n",
        "\n",
        "  def _action(\n",
        "      self, \n",
        "      time_step: ts.TimeStep, \n",
        "      policy_state: types.NestedTensor = (), \n",
        "      seed: Optional[types.Seed] = None) -> policy_step.PolicyStep:\n",
        "    sample = tfd.Beta(self._alpha, self._beta).sample()\n",
        "    action = tf.cast(tf.reshape(tf.math.argmax(sample), [1]), dtype=tf.int32)\n",
        "\n",
        "    return policy_step.PolicyStep(action, policy_state)"
      ],
      "execution_count": null,
      "outputs": []
    },
    {
      "cell_type": "markdown",
      "metadata": {
        "id": "tVpX3f1nipWS"
      },
      "source": [
        "Let's tests the behaviour of the policy."
      ]
    },
    {
      "cell_type": "code",
      "metadata": {
        "colab": {
          "base_uri": "https://localhost:8080/"
        },
        "id": "Hx6bMT22PvtG",
        "outputId": "41dbd304-74bf-42a8-f9bf-f6cee29997cd"
      },
      "source": [
        "policy = BetaPolicy([10, 1, 1], [1, 1, 1])\n",
        "\n",
        "observation = tf.ones(policy.time_step_spec.observation.shape, dtype=tf.float64)\n",
        "print(f'observation: {observation}')\n",
        "time_step = ts.restart(observation)\n",
        "\n",
        "action = policy.action(time_step).action\n",
        "print(f'action: {action}')"
      ],
      "execution_count": null,
      "outputs": [
        {
          "output_type": "stream",
          "text": [
            "observation: [1.]\n",
            "action: [0]\n"
          ],
          "name": "stdout"
        }
      ]
    },
    {
      "cell_type": "markdown",
      "metadata": {
        "id": "p2SlsY8wTV5g"
      },
      "source": [
        "## Agent"
      ]
    },
    {
      "cell_type": "code",
      "metadata": {
        "id": "0my0fzFGQOpN"
      },
      "source": [
        "class BetaAgent(tf_agent.TFAgent):\n",
        "  def __init__(self):\n",
        "    self._alpha = [1, 1, 1]\n",
        "    self._beta = [1, 1, 1]\n",
        "\n",
        "    policy = BetaPolicy(self._alpha, self._beta)\n",
        "    time_step_spec = policy.time_step_spec\n",
        "    action_spec = policy.action_spec\n",
        "\n",
        "    super(BetaAgent, self).__init__(time_step_spec=time_step_spec,\n",
        "                                    action_spec=action_spec,\n",
        "                                    policy=policy,\n",
        "                                    collect_policy=policy,\n",
        "                                    train_sequence_length=None)\n",
        "\n",
        "  def _initialize(self) -> Optional[tf.Operation]:\n",
        "    return tf.compat.v1.variables_initializer(self.variables)\n",
        "\n",
        "  def _train(\n",
        "      self, \n",
        "      experience: types.NestedTensor, \n",
        "      weights: Optional[types.Tensor] = None) -> tf_agent.LossInfo:\n",
        "    # Get all necessary info from the trajectory\n",
        "    observation = experience.observation\n",
        "    action = experience.action\n",
        "    reward = experience.reward\n",
        "    # Get the action value, which represents the \n",
        "    # index of the used Beta distribution.\n",
        "    dist_index = action.numpy()[0, 0]\n",
        "    # Updated proper parameters of the \n",
        "    # distribution based on the reward.\n",
        "    if tf.cast(reward, dtype=tf.bool):\n",
        "      self._alpha[dist_index] += 1\n",
        "    else:\n",
        "      self._beta[dist_index] += 1\n",
        "\n",
        "    return tf_agent.LossInfo((), ())"
      ],
      "execution_count": null,
      "outputs": []
    },
    {
      "cell_type": "markdown",
      "metadata": {
        "id": "Dyr46nn0ggE-"
      },
      "source": [
        "## Experiment"
      ]
    },
    {
      "cell_type": "code",
      "metadata": {
        "id": "uZryS0IMUq6b"
      },
      "source": [
        "# We need to add another dimension here because the agent expects the\n",
        "# trajectory of shape [batch_size, time, ...], but in this tutorial we assume\n",
        "# that both batch size and time are 1. Hence all the expand_dims.\n",
        "\n",
        "def trajectory_for_bandit(initial_step, action_step, final_step) -> types.NestedTensor:\n",
        "  return trajectory.Trajectory(observation=tf.expand_dims(initial_step.observation, 0),\n",
        "                               action=tf.expand_dims(action_step.action, 0),\n",
        "                               policy_info=action_step.info,\n",
        "                               reward=tf.expand_dims(final_step.reward, 0),\n",
        "                               discount=tf.expand_dims(final_step.discount, 0),\n",
        "                               step_type=tf.expand_dims(initial_step.step_type, 0),\n",
        "                               next_step_type=tf.expand_dims(final_step.step_type, 0))\n",
        "\n",
        "def plot_pdf(a: List[int], b: List[int]):\n",
        "  fig, ax = plt.subplots(1, 1)\n",
        "  x = np.linspace(beta.ppf(0.01, a, b),\n",
        "                  beta.ppf(0.99, a, b), 100)\n",
        "\n",
        "  ax.plot(x, beta.pdf(x, a, b),\n",
        "        '-', lw=1, alpha=0.6, label='beta pdf')"
      ],
      "execution_count": null,
      "outputs": []
    },
    {
      "cell_type": "code",
      "metadata": {
        "colab": {
          "base_uri": "https://localhost:8080/"
        },
        "id": "OoVYrAPJU1N7",
        "outputId": "f97bb28a-b97c-4ea6-8dcd-4faf6e14051a"
      },
      "source": [
        "environment = tf_py_environment.TFPyEnvironment(BannerEnvironment([0.25, 0.4, 0.67]))\n",
        "step = environment.reset()\n",
        "\n",
        "agent = BetaAgent()\n",
        "\n",
        "for _ in range(500):\n",
        "  action_step = agent.collect_policy.action(step)  \n",
        "  next_step = environment.step(action_step.action)  \n",
        "  # Create trajectory nested \n",
        "  experience = trajectory_for_bandit(step, action_step, next_step)\n",
        "  # Train policy in the agent\n",
        "  agent.train(experience)\n",
        "  step = next_step\n",
        "\n",
        "print(f'\\nalpha={agent._alpha}, beta={agent._beta}')\n",
        "print(f'mu={beta.stats(agent._alpha, agent._beta)[0]}')"
      ],
      "execution_count": null,
      "outputs": [
        {
          "output_type": "stream",
          "text": [
            "\n",
            "alpha=ListWrapper([1, 17, 319]), beta=ListWrapper([6, 18, 145])\n",
            "mu=[0.14285714 0.48571429 0.6875    ]\n"
          ],
          "name": "stdout"
        }
      ]
    },
    {
      "cell_type": "markdown",
      "metadata": {
        "id": "DiU3hnjwgFOB"
      },
      "source": [
        "We can plot the estimates of the CTR distributions after policy training."
      ]
    },
    {
      "cell_type": "code",
      "metadata": {
        "colab": {
          "base_uri": "https://localhost:8080/",
          "height": 265
        },
        "id": "5FauBFbGM6g4",
        "outputId": "1d580f74-2887-4826-9385-e670660f5c4a"
      },
      "source": [
        "plot_pdf(agent._alpha, agent._beta)"
      ],
      "execution_count": null,
      "outputs": [
        {
          "output_type": "display_data",
          "data": {
            "image/png": "[encoded data removed]",
            "text/plain": [
              "<Figure size 432x288 with 1 Axes>"
            ]
          },
          "metadata": {
            "tags": [],
            "needs_background": "light"
          }
        }
      ]
    },
    {
      "cell_type": "code",
      "metadata": {
        "id": "SoBVFmyEQQEN"
      },
      "source": [
        ""
      ],
      "execution_count": null,
      "outputs": []
    }
  ]
}